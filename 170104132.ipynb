{
  "nbformat": 4,
  "nbformat_minor": 0,
  "metadata": {
    "colab": {
      "name": "170104132.ipynb",
      "provenance": [],
      "collapsed_sections": []
    },
    "kernelspec": {
      "name": "python3",
      "display_name": "Python 3"
    },
    "language_info": {
      "name": "python"
    }
  },
  "cells": [
    {
      "cell_type": "code",
      "metadata": {
        "id": "kOc2m6Rma2xw",
        "colab": {
          "base_uri": "https://localhost:8080/"
        },
        "outputId": "ab18f3e6-cb67-4a7c-c887-02b8faa48c22"
      },
      "source": [
        "from google.colab import drive\n",
        "drive.mount('/content/drive')"
      ],
      "execution_count": 1,
      "outputs": [
        {
          "output_type": "stream",
          "name": "stdout",
          "text": [
            "Mounted at /content/drive\n"
          ]
        }
      ]
    },
    {
      "cell_type": "code",
      "metadata": {
        "id": "SMW49hMSatem"
      },
      "source": [
        "import pandas as pd\n",
        "import numpy as np # linear algebra\n",
        "import pandas as pd # data processing, CSV file I/O (e.g. pd.read_csv)\n",
        "\n",
        "from sklearn.feature_extraction.text import CountVectorizer\n",
        "from keras.preprocessing.text import Tokenizer\n",
        "from keras.preprocessing.sequence import pad_sequences\n",
        "from keras.models import Sequential\n",
        "from keras.layers import Dense, Embedding,RNN, LSTM,Bidirectional, SpatialDropout1D\n",
        "from sklearn.model_selection import train_test_split\n",
        "from keras.utils.np_utils import to_categorical\n",
        "import re"
      ],
      "execution_count": 2,
      "outputs": []
    },
    {
      "cell_type": "code",
      "metadata": {
        "id": "EaHsxNCRbNp3",
        "colab": {
          "base_uri": "https://localhost:8080/",
          "height": 419
        },
        "outputId": "a7070337-f25b-4184-b0dc-16ffcaa4e4b0"
      },
      "source": [
        "dataset = pd.read_csv('/content/drive/MyDrive/Dataset 1.csv',encoding=\"ISO-8859-1\")\n",
        "dataset"
      ],
      "execution_count": 3,
      "outputs": [
        {
          "output_type": "execute_result",
          "data": {
            "text/html": [
              "<div>\n",
              "<style scoped>\n",
              "    .dataframe tbody tr th:only-of-type {\n",
              "        vertical-align: middle;\n",
              "    }\n",
              "\n",
              "    .dataframe tbody tr th {\n",
              "        vertical-align: top;\n",
              "    }\n",
              "\n",
              "    .dataframe thead th {\n",
              "        text-align: right;\n",
              "    }\n",
              "</style>\n",
              "<table border=\"1\" class=\"dataframe\">\n",
              "  <thead>\n",
              "    <tr style=\"text-align: right;\">\n",
              "      <th></th>\n",
              "      <th>message</th>\n",
              "      <th>label</th>\n",
              "    </tr>\n",
              "  </thead>\n",
              "  <tbody>\n",
              "    <tr>\n",
              "      <th>0</th>\n",
              "      <td>just had a real good moment. i missssssssss hi...</td>\n",
              "      <td>0</td>\n",
              "    </tr>\n",
              "    <tr>\n",
              "      <th>1</th>\n",
              "      <td>is reading manga  http://plurk.com/p/mzp1e</td>\n",
              "      <td>0</td>\n",
              "    </tr>\n",
              "    <tr>\n",
              "      <th>2</th>\n",
              "      <td>@comeagainjen http://twitpic.com/2y2lx - http:...</td>\n",
              "      <td>0</td>\n",
              "    </tr>\n",
              "    <tr>\n",
              "      <th>3</th>\n",
              "      <td>@lapcat Need to send 'em to my accountant tomo...</td>\n",
              "      <td>0</td>\n",
              "    </tr>\n",
              "    <tr>\n",
              "      <th>4</th>\n",
              "      <td>ADD ME ON MYSPACE!!!  myspace.com/LookThunder</td>\n",
              "      <td>0</td>\n",
              "    </tr>\n",
              "    <tr>\n",
              "      <th>...</th>\n",
              "      <td>...</td>\n",
              "      <td>...</td>\n",
              "    </tr>\n",
              "    <tr>\n",
              "      <th>10309</th>\n",
              "      <td>No Depression by G Herbo is my mood from now o...</td>\n",
              "      <td>1</td>\n",
              "    </tr>\n",
              "    <tr>\n",
              "      <th>10310</th>\n",
              "      <td>What do you do when depression succumbs the br...</td>\n",
              "      <td>1</td>\n",
              "    </tr>\n",
              "    <tr>\n",
              "      <th>10311</th>\n",
              "      <td>Ketamine Nasal Spray Shows Promise Against Dep...</td>\n",
              "      <td>1</td>\n",
              "    </tr>\n",
              "    <tr>\n",
              "      <th>10312</th>\n",
              "      <td>dont mistake a bad day with depression! everyo...</td>\n",
              "      <td>1</td>\n",
              "    </tr>\n",
              "    <tr>\n",
              "      <th>10313</th>\n",
              "      <td>0</td>\n",
              "      <td>1</td>\n",
              "    </tr>\n",
              "  </tbody>\n",
              "</table>\n",
              "<p>10314 rows × 2 columns</p>\n",
              "</div>"
            ],
            "text/plain": [
              "                                                 message  label\n",
              "0      just had a real good moment. i missssssssss hi...      0\n",
              "1             is reading manga  http://plurk.com/p/mzp1e      0\n",
              "2      @comeagainjen http://twitpic.com/2y2lx - http:...      0\n",
              "3      @lapcat Need to send 'em to my accountant tomo...      0\n",
              "4          ADD ME ON MYSPACE!!!  myspace.com/LookThunder      0\n",
              "...                                                  ...    ...\n",
              "10309  No Depression by G Herbo is my mood from now o...      1\n",
              "10310  What do you do when depression succumbs the br...      1\n",
              "10311  Ketamine Nasal Spray Shows Promise Against Dep...      1\n",
              "10312  dont mistake a bad day with depression! everyo...      1\n",
              "10313                                                  0      1\n",
              "\n",
              "[10314 rows x 2 columns]"
            ]
          },
          "metadata": {},
          "execution_count": 3
        }
      ]
    },
    {
      "cell_type": "code",
      "metadata": {
        "id": "UKU7oVDLebGI"
      },
      "source": [
        "dataset['message'] = dataset['message'].apply(lambda x: x.lower())"
      ],
      "execution_count": 4,
      "outputs": []
    },
    {
      "cell_type": "code",
      "metadata": {
        "colab": {
          "base_uri": "https://localhost:8080/",
          "height": 419
        },
        "id": "g00Q5ewMfzyO",
        "outputId": "2133d4b4-0be6-4c94-d0c6-c4f0fa40dfcf"
      },
      "source": [
        "dataset"
      ],
      "execution_count": 5,
      "outputs": [
        {
          "output_type": "execute_result",
          "data": {
            "text/html": [
              "<div>\n",
              "<style scoped>\n",
              "    .dataframe tbody tr th:only-of-type {\n",
              "        vertical-align: middle;\n",
              "    }\n",
              "\n",
              "    .dataframe tbody tr th {\n",
              "        vertical-align: top;\n",
              "    }\n",
              "\n",
              "    .dataframe thead th {\n",
              "        text-align: right;\n",
              "    }\n",
              "</style>\n",
              "<table border=\"1\" class=\"dataframe\">\n",
              "  <thead>\n",
              "    <tr style=\"text-align: right;\">\n",
              "      <th></th>\n",
              "      <th>message</th>\n",
              "      <th>label</th>\n",
              "    </tr>\n",
              "  </thead>\n",
              "  <tbody>\n",
              "    <tr>\n",
              "      <th>0</th>\n",
              "      <td>just had a real good moment. i missssssssss hi...</td>\n",
              "      <td>0</td>\n",
              "    </tr>\n",
              "    <tr>\n",
              "      <th>1</th>\n",
              "      <td>is reading manga  http://plurk.com/p/mzp1e</td>\n",
              "      <td>0</td>\n",
              "    </tr>\n",
              "    <tr>\n",
              "      <th>2</th>\n",
              "      <td>@comeagainjen http://twitpic.com/2y2lx - http:...</td>\n",
              "      <td>0</td>\n",
              "    </tr>\n",
              "    <tr>\n",
              "      <th>3</th>\n",
              "      <td>@lapcat need to send 'em to my accountant tomo...</td>\n",
              "      <td>0</td>\n",
              "    </tr>\n",
              "    <tr>\n",
              "      <th>4</th>\n",
              "      <td>add me on myspace!!!  myspace.com/lookthunder</td>\n",
              "      <td>0</td>\n",
              "    </tr>\n",
              "    <tr>\n",
              "      <th>...</th>\n",
              "      <td>...</td>\n",
              "      <td>...</td>\n",
              "    </tr>\n",
              "    <tr>\n",
              "      <th>10309</th>\n",
              "      <td>no depression by g herbo is my mood from now o...</td>\n",
              "      <td>1</td>\n",
              "    </tr>\n",
              "    <tr>\n",
              "      <th>10310</th>\n",
              "      <td>what do you do when depression succumbs the br...</td>\n",
              "      <td>1</td>\n",
              "    </tr>\n",
              "    <tr>\n",
              "      <th>10311</th>\n",
              "      <td>ketamine nasal spray shows promise against dep...</td>\n",
              "      <td>1</td>\n",
              "    </tr>\n",
              "    <tr>\n",
              "      <th>10312</th>\n",
              "      <td>dont mistake a bad day with depression! everyo...</td>\n",
              "      <td>1</td>\n",
              "    </tr>\n",
              "    <tr>\n",
              "      <th>10313</th>\n",
              "      <td>0</td>\n",
              "      <td>1</td>\n",
              "    </tr>\n",
              "  </tbody>\n",
              "</table>\n",
              "<p>10314 rows × 2 columns</p>\n",
              "</div>"
            ],
            "text/plain": [
              "                                                 message  label\n",
              "0      just had a real good moment. i missssssssss hi...      0\n",
              "1             is reading manga  http://plurk.com/p/mzp1e      0\n",
              "2      @comeagainjen http://twitpic.com/2y2lx - http:...      0\n",
              "3      @lapcat need to send 'em to my accountant tomo...      0\n",
              "4          add me on myspace!!!  myspace.com/lookthunder      0\n",
              "...                                                  ...    ...\n",
              "10309  no depression by g herbo is my mood from now o...      1\n",
              "10310  what do you do when depression succumbs the br...      1\n",
              "10311  ketamine nasal spray shows promise against dep...      1\n",
              "10312  dont mistake a bad day with depression! everyo...      1\n",
              "10313                                                  0      1\n",
              "\n",
              "[10314 rows x 2 columns]"
            ]
          },
          "metadata": {},
          "execution_count": 5
        }
      ]
    },
    {
      "cell_type": "code",
      "metadata": {
        "id": "TH6LEjULgLWW"
      },
      "source": [
        "dataset['message'] = dataset['message'].apply((lambda x: re.sub('[^a-zA-z0-9\\s]','',x)))"
      ],
      "execution_count": 6,
      "outputs": []
    },
    {
      "cell_type": "code",
      "metadata": {
        "colab": {
          "base_uri": "https://localhost:8080/",
          "height": 419
        },
        "id": "1WWYm7segiKf",
        "outputId": "894d2e83-1b56-4be1-8678-061e5dfcb7f4"
      },
      "source": [
        "dataset"
      ],
      "execution_count": 7,
      "outputs": [
        {
          "output_type": "execute_result",
          "data": {
            "text/html": [
              "<div>\n",
              "<style scoped>\n",
              "    .dataframe tbody tr th:only-of-type {\n",
              "        vertical-align: middle;\n",
              "    }\n",
              "\n",
              "    .dataframe tbody tr th {\n",
              "        vertical-align: top;\n",
              "    }\n",
              "\n",
              "    .dataframe thead th {\n",
              "        text-align: right;\n",
              "    }\n",
              "</style>\n",
              "<table border=\"1\" class=\"dataframe\">\n",
              "  <thead>\n",
              "    <tr style=\"text-align: right;\">\n",
              "      <th></th>\n",
              "      <th>message</th>\n",
              "      <th>label</th>\n",
              "    </tr>\n",
              "  </thead>\n",
              "  <tbody>\n",
              "    <tr>\n",
              "      <th>0</th>\n",
              "      <td>just had a real good moment i missssssssss him...</td>\n",
              "      <td>0</td>\n",
              "    </tr>\n",
              "    <tr>\n",
              "      <th>1</th>\n",
              "      <td>is reading manga  httpplurkcompmzp1e</td>\n",
              "      <td>0</td>\n",
              "    </tr>\n",
              "    <tr>\n",
              "      <th>2</th>\n",
              "      <td>comeagainjen httptwitpiccom2y2lx  httpwwwyoutu...</td>\n",
              "      <td>0</td>\n",
              "    </tr>\n",
              "    <tr>\n",
              "      <th>3</th>\n",
              "      <td>lapcat need to send em to my accountant tomorr...</td>\n",
              "      <td>0</td>\n",
              "    </tr>\n",
              "    <tr>\n",
              "      <th>4</th>\n",
              "      <td>add me on myspace  myspacecomlookthunder</td>\n",
              "      <td>0</td>\n",
              "    </tr>\n",
              "    <tr>\n",
              "      <th>...</th>\n",
              "      <td>...</td>\n",
              "      <td>...</td>\n",
              "    </tr>\n",
              "    <tr>\n",
              "      <th>10309</th>\n",
              "      <td>no depression by g herbo is my mood from now o...</td>\n",
              "      <td>1</td>\n",
              "    </tr>\n",
              "    <tr>\n",
              "      <th>10310</th>\n",
              "      <td>what do you do when depression succumbs the br...</td>\n",
              "      <td>1</td>\n",
              "    </tr>\n",
              "    <tr>\n",
              "      <th>10311</th>\n",
              "      <td>ketamine nasal spray shows promise against dep...</td>\n",
              "      <td>1</td>\n",
              "    </tr>\n",
              "    <tr>\n",
              "      <th>10312</th>\n",
              "      <td>dont mistake a bad day with depression everyon...</td>\n",
              "      <td>1</td>\n",
              "    </tr>\n",
              "    <tr>\n",
              "      <th>10313</th>\n",
              "      <td>0</td>\n",
              "      <td>1</td>\n",
              "    </tr>\n",
              "  </tbody>\n",
              "</table>\n",
              "<p>10314 rows × 2 columns</p>\n",
              "</div>"
            ],
            "text/plain": [
              "                                                 message  label\n",
              "0      just had a real good moment i missssssssss him...      0\n",
              "1                   is reading manga  httpplurkcompmzp1e      0\n",
              "2      comeagainjen httptwitpiccom2y2lx  httpwwwyoutu...      0\n",
              "3      lapcat need to send em to my accountant tomorr...      0\n",
              "4               add me on myspace  myspacecomlookthunder      0\n",
              "...                                                  ...    ...\n",
              "10309  no depression by g herbo is my mood from now o...      1\n",
              "10310  what do you do when depression succumbs the br...      1\n",
              "10311  ketamine nasal spray shows promise against dep...      1\n",
              "10312  dont mistake a bad day with depression everyon...      1\n",
              "10313                                                  0      1\n",
              "\n",
              "[10314 rows x 2 columns]"
            ]
          },
          "metadata": {},
          "execution_count": 7
        }
      ]
    },
    {
      "cell_type": "code",
      "metadata": {
        "id": "55wV68EwOQR9"
      },
      "source": [
        "sentence_length = []\n",
        "from collections import Counter\n",
        "count = Counter()\n",
        "for i in dataset.message:\n",
        "  temp = i.split()\n",
        "  sentence_length.append(len(temp))\n",
        "  for j in temp:\n",
        "    count[j] += 1"
      ],
      "execution_count": 8,
      "outputs": []
    },
    {
      "cell_type": "code",
      "metadata": {
        "colab": {
          "base_uri": "https://localhost:8080/"
        },
        "id": "d2GVJIQIOuFA",
        "outputId": "df9afe74-5224-47a9-8894-f67cff2e34fa"
      },
      "source": [
        "num_words = len(count)\n",
        "max_length = max(sentence_length)\n",
        "print('num_words: ',num_words,' max_length: ',max_length)"
      ],
      "execution_count": 9,
      "outputs": [
        {
          "output_type": "stream",
          "name": "stdout",
          "text": [
            "num_words:  23518  max_length:  69\n"
          ]
        }
      ]
    },
    {
      "cell_type": "code",
      "metadata": {
        "id": "1de9jVK-SEEB"
      },
      "source": [
        "train_text,test_text,train_label,test_label=train_test_split(dataset['message'],dataset['label'],test_size=0.20,random_state=1)"
      ],
      "execution_count": 10,
      "outputs": []
    },
    {
      "cell_type": "code",
      "metadata": {
        "id": "PsbxAspvSZl2"
      },
      "source": [
        "tokenizer = Tokenizer(num_words=num_words)\n",
        "tokenizer.fit_on_texts(dataset['message'])\n",
        "word_index = tokenizer.word_index"
      ],
      "execution_count": 11,
      "outputs": []
    },
    {
      "cell_type": "code",
      "metadata": {
        "id": "nN8LIGbGS2yN"
      },
      "source": [
        "train_text = tokenizer.texts_to_sequences(train_text)\n",
        "test_text = tokenizer.texts_to_sequences(test_text)"
      ],
      "execution_count": 12,
      "outputs": []
    },
    {
      "cell_type": "code",
      "metadata": {
        "id": "MjtLTuvbTC62"
      },
      "source": [
        "train_padding = pad_sequences(\n",
        "    train_text, maxlen=max_length, padding='post', truncating='post'\n",
        ")\n",
        "test_padding = pad_sequences(\n",
        "    test_text, maxlen=max_length, padding='post', truncating='post'\n",
        ")"
      ],
      "execution_count": 13,
      "outputs": []
    },
    {
      "cell_type": "code",
      "metadata": {
        "colab": {
          "base_uri": "https://localhost:8080/"
        },
        "id": "w3r8kIIkTE2V",
        "outputId": "41e178a3-a898-4f14-b657-c0bc836d4a60"
      },
      "source": [
        "print(len(train_padding))\n",
        "print(len(test_padding))"
      ],
      "execution_count": 14,
      "outputs": [
        {
          "output_type": "stream",
          "name": "stdout",
          "text": [
            "8251\n",
            "2063\n"
          ]
        }
      ]
    },
    {
      "cell_type": "code",
      "metadata": {
        "id": "gu_kkyuCKHFA"
      },
      "source": [
        "lr = 0.0001\n",
        "epoch_num = 10\n",
        "unit1 = 64\n",
        "unit2 = 128\n",
        "unit3 = 256\n",
        "embedding_output = 32\n",
        "\n"
      ],
      "execution_count": 15,
      "outputs": []
    },
    {
      "cell_type": "code",
      "metadata": {
        "id": "0_5JuHrcKPIW"
      },
      "source": [
        "def rnn_model():\n",
        "  model = tf.keras.Sequential([\n",
        "    tf.keras.layers.Embedding(num_words, embedding_output,input_length=max_length),\n",
        "    tf.keras.layers.SimpleRNN(unit1, return_sequences=True,activation='relu'),\n",
        "    tf.keras.layers.SimpleRNN(unit2, return_sequences=True,activation='relu'),\n",
        "    tf.keras.layers.SimpleRNN(unit3),\n",
        "    tf.keras.layers.Dense(1,activation='sigmoid'),\n",
        "  ])\n",
        "\n",
        "  model.compile(optimizer=tf.keras.optimizers.Adam(learning_rate = lr),\n",
        "                loss=tf.keras.losses.BinaryCrossentropy(),\n",
        "                metrics=['TruePositives','TrueNegatives','FalsePositives','FalseNegatives','accuracy',tf.keras.metrics.Precision(),tf.keras.metrics.Recall()])\n",
        "  return model"
      ],
      "execution_count": 16,
      "outputs": []
    },
    {
      "cell_type": "code",
      "metadata": {
        "colab": {
          "base_uri": "https://localhost:8080/"
        },
        "id": "mCDCnKeZTlZs",
        "outputId": "478cb642-fb81-426d-f92d-dae7f40b3b15"
      },
      "source": [
        "import tensorflow as tf\n",
        "model = rnn_model()\n",
        "rnn_model_result = model.fit( train_padding, train_label, epochs=epoch_num, verbose=2,validation_data = (test_padding,test_label))"
      ],
      "execution_count": 27,
      "outputs": [
        {
          "output_type": "stream",
          "name": "stdout",
          "text": [
            "Epoch 1/10\n",
            "258/258 - 32s - loss: 0.4532 - true_positives: 562.0000 - true_negatives: 6248.0000 - false_positives: 144.0000 - false_negatives: 1297.0000 - accuracy: 0.8254 - precision_1: 0.7960 - recall_1: 0.3023 - val_loss: 0.4204 - val_true_positives: 135.0000 - val_true_negatives: 1608.0000 - val_false_positives: 0.0000e+00 - val_false_negatives: 320.0000 - val_accuracy: 0.8449 - val_precision_1: 1.0000 - val_recall_1: 0.2967\n",
            "Epoch 2/10\n",
            "258/258 - 28s - loss: 0.3965 - true_positives: 821.0000 - true_negatives: 6236.0000 - false_positives: 156.0000 - false_negatives: 1038.0000 - accuracy: 0.8553 - precision_1: 0.8403 - recall_1: 0.4416 - val_loss: 0.4472 - val_true_positives: 385.0000 - val_true_negatives: 1553.0000 - val_false_positives: 55.0000 - val_false_negatives: 70.0000 - val_accuracy: 0.9394 - val_precision_1: 0.8750 - val_recall_1: 0.8462\n",
            "Epoch 3/10\n",
            "258/258 - 28s - loss: 0.1111 - true_positives: 1674.0000 - true_negatives: 6322.0000 - false_positives: 70.0000 - false_negatives: 185.0000 - accuracy: 0.9691 - precision_1: 0.9599 - recall_1: 0.9005 - val_loss: 0.0762 - val_true_positives: 434.0000 - val_true_negatives: 1587.0000 - val_false_positives: 21.0000 - val_false_negatives: 21.0000 - val_accuracy: 0.9796 - val_precision_1: 0.9538 - val_recall_1: 0.9538\n",
            "Epoch 4/10\n",
            "258/258 - 28s - loss: 0.0557 - true_positives: 1785.0000 - true_negatives: 6363.0000 - false_positives: 29.0000 - false_negatives: 74.0000 - accuracy: 0.9875 - precision_1: 0.9840 - recall_1: 0.9602 - val_loss: 0.0802 - val_true_positives: 412.0000 - val_true_negatives: 1603.0000 - val_false_positives: 5.0000 - val_false_negatives: 43.0000 - val_accuracy: 0.9767 - val_precision_1: 0.9880 - val_recall_1: 0.9055\n",
            "Epoch 5/10\n",
            "258/258 - 28s - loss: 0.0382 - true_positives: 1806.0000 - true_negatives: 6380.0000 - false_positives: 12.0000 - false_negatives: 53.0000 - accuracy: 0.9921 - precision_1: 0.9934 - recall_1: 0.9715 - val_loss: 0.0647 - val_true_positives: 428.0000 - val_true_negatives: 1600.0000 - val_false_positives: 8.0000 - val_false_negatives: 27.0000 - val_accuracy: 0.9830 - val_precision_1: 0.9817 - val_recall_1: 0.9407\n",
            "Epoch 6/10\n",
            "258/258 - 28s - loss: 0.0265 - true_positives: 1826.0000 - true_negatives: 6384.0000 - false_positives: 8.0000 - false_negatives: 33.0000 - accuracy: 0.9950 - precision_1: 0.9956 - recall_1: 0.9822 - val_loss: 0.1361 - val_true_positives: 373.0000 - val_true_negatives: 1608.0000 - val_false_positives: 0.0000e+00 - val_false_negatives: 82.0000 - val_accuracy: 0.9603 - val_precision_1: 1.0000 - val_recall_1: 0.8198\n",
            "Epoch 7/10\n",
            "258/258 - 28s - loss: 0.0294 - true_positives: 1817.0000 - true_negatives: 6382.0000 - false_positives: 10.0000 - false_negatives: 42.0000 - accuracy: 0.9937 - precision_1: 0.9945 - recall_1: 0.9774 - val_loss: 0.0832 - val_true_positives: 429.0000 - val_true_negatives: 1592.0000 - val_false_positives: 16.0000 - val_false_negatives: 26.0000 - val_accuracy: 0.9796 - val_precision_1: 0.9640 - val_recall_1: 0.9429\n",
            "Epoch 8/10\n",
            "258/258 - 28s - loss: 0.0303 - true_positives: 1820.0000 - true_negatives: 6379.0000 - false_positives: 13.0000 - false_negatives: 39.0000 - accuracy: 0.9937 - precision_1: 0.9929 - recall_1: 0.9790 - val_loss: 0.1250 - val_true_positives: 438.0000 - val_true_negatives: 1568.0000 - val_false_positives: 40.0000 - val_false_negatives: 17.0000 - val_accuracy: 0.9724 - val_precision_1: 0.9163 - val_recall_1: 0.9626\n",
            "Epoch 9/10\n",
            "258/258 - 28s - loss: 0.0144 - true_positives: 1841.0000 - true_negatives: 6391.0000 - false_positives: 1.0000 - false_negatives: 18.0000 - accuracy: 0.9977 - precision_1: 0.9995 - recall_1: 0.9903 - val_loss: 0.0907 - val_true_positives: 416.0000 - val_true_negatives: 1606.0000 - val_false_positives: 2.0000 - val_false_negatives: 39.0000 - val_accuracy: 0.9801 - val_precision_1: 0.9952 - val_recall_1: 0.9143\n",
            "Epoch 10/10\n",
            "258/258 - 28s - loss: 0.0223 - true_positives: 1829.0000 - true_negatives: 6383.0000 - false_positives: 9.0000 - false_negatives: 30.0000 - accuracy: 0.9953 - precision_1: 0.9951 - recall_1: 0.9839 - val_loss: 0.1212 - val_true_positives: 430.0000 - val_true_negatives: 1573.0000 - val_false_positives: 35.0000 - val_false_negatives: 25.0000 - val_accuracy: 0.9709 - val_precision_1: 0.9247 - val_recall_1: 0.9451\n"
          ]
        }
      ]
    },
    {
      "cell_type": "code",
      "metadata": {
        "colab": {
          "base_uri": "https://localhost:8080/"
        },
        "id": "tDPvZwO0WksF",
        "outputId": "075c6110-e66f-4365-eb4f-6f999d7fee19"
      },
      "source": [
        "model.summary()"
      ],
      "execution_count": 18,
      "outputs": [
        {
          "output_type": "stream",
          "name": "stdout",
          "text": [
            "Model: \"sequential\"\n",
            "_________________________________________________________________\n",
            "Layer (type)                 Output Shape              Param #   \n",
            "=================================================================\n",
            "embedding (Embedding)        (None, 69, 32)            752576    \n",
            "_________________________________________________________________\n",
            "simple_rnn (SimpleRNN)       (None, 69, 64)            6208      \n",
            "_________________________________________________________________\n",
            "simple_rnn_1 (SimpleRNN)     (None, 69, 128)           24704     \n",
            "_________________________________________________________________\n",
            "simple_rnn_2 (SimpleRNN)     (None, 256)               98560     \n",
            "_________________________________________________________________\n",
            "dense (Dense)                (None, 1)                 257       \n",
            "=================================================================\n",
            "Total params: 882,305\n",
            "Trainable params: 882,305\n",
            "Non-trainable params: 0\n",
            "_________________________________________________________________\n"
          ]
        }
      ]
    },
    {
      "cell_type": "code",
      "metadata": {
        "colab": {
          "base_uri": "https://localhost:8080/",
          "height": 295
        },
        "id": "carH_lWiLGOp",
        "outputId": "9c95a2e5-f5ba-49c1-9783-bfe9ceff6cdb"
      },
      "source": [
        "from matplotlib import pyplot\n",
        "pyplot.plot(rnn_model_result.history['loss'])\n",
        "pyplot.plot(rnn_model_result.history['accuracy'])\n",
        "pyplot.title('Loss VS Accuracy')\n",
        "pyplot.xlabel('Epoch')\n",
        "pyplot.legend(['Loss', 'Accuracy'], loc='center right')\n",
        "pyplot.show() \n"
      ],
      "execution_count": 19,
      "outputs": [
        {
          "output_type": "display_data",
          "data": {
            "image/png": "[encoded data removed]",
            "text/plain": [
              "<Figure size 432x288 with 1 Axes>"
            ]
          },
          "metadata": {
            "needs_background": "light"
          }
        }
      ]
    },
    {
      "cell_type": "code",
      "metadata": {
        "colab": {
          "base_uri": "https://localhost:8080/",
          "height": 332
        },
        "id": "DOrRz-LXa_uo",
        "outputId": "c3910882-bdc9-4fd3-bb1e-9a45613549c0"
      },
      "source": [
        "f1_score = []\n",
        "for p,r in zip(rnn_model_result.history['precision'], rnn_model_result.history['recall']):\n",
        "  temp = 2 * ((p*r) + (p+r))\n",
        "  f1_score.append(temp)\n",
        "epoch = [x for x in range(21)]\n",
        "\n",
        "f1_score_df = pd.DataFrame()\n",
        "f1_score_df = pd.DataFrame(columns = ['Epoch','F1 Score'])\n",
        "f1_score_df['Epoch'] = pd.Series(epoch)\n",
        "f1_score_df['F1 Score'] = pd.Series(f1_score)\n",
        "\n",
        "f1_score_df.plot(x='Epoch', y=['F1 Score'])\n",
        "pyplot.title('Epoch Vs F1 Score')\n",
        "pyplot.ylabel('F1 Score')\n",
        "pyplot.xlabel('Epoch') "
      ],
      "execution_count": 26,
      "outputs": [
        {
          "output_type": "execute_result",
          "data": {
            "text/plain": [
              "Text(0.5, 0, 'Epoch')"
            ]
          },
          "metadata": {},
          "execution_count": 26
        },
        {
          "output_type": "display_data",
          "data": {
            "image/png": "[encoded data removed]",
            "text/plain": [
              "<Figure size 432x288 with 1 Axes>"
            ]
          },
          "metadata": {}
        }
      ]
    },
    {
      "cell_type": "code",
      "metadata": {
        "colab": {
          "base_uri": "https://localhost:8080/",
          "height": 315
        },
        "id": "wNGYufZJRvYN",
        "outputId": "15e8c541-d947-49e5-f943-2e88e2dc00bd"
      },
      "source": [
        "import seaborn as sn\n",
        "array = [[rnn_model_result.history['true_positives'][-1],rnn_model_result.history['false_positives'][-1]],\n",
        "         [rnn_model_result.history['false_negatives'][-1],rnn_model_result.history['true_negatives'][-1]]]\n",
        "df_cm = pd.DataFrame(array, range(2), range(2))\n",
        "sn.set(font_scale=1.4) \n",
        "sn.heatmap(df_cm, annot=True, annot_kws={\"size\": 12}) \n",
        "pyplot.title('Confusion Matrix')\n",
        "pyplot.ylabel('Actual Class')\n",
        "pyplot.xlabel('Predicted Class')\n",
        "pyplot.savefig('Confusion_Matrix.png')\n",
        "pyplot.show()"
      ],
      "execution_count": 20,
      "outputs": [
        {
          "output_type": "display_data",
          "data": {
            "image/png": "[encoded data removed]",
            "text/plain": [
              "<Figure size 432x288 with 2 Axes>"
            ]
          },
          "metadata": {}
        }
      ]
    }
  ]
}