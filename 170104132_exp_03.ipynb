{
  "nbformat": 4,
  "nbformat_minor": 0,
  "metadata": {
    "colab": {
      "name": "170104132_exp_03.ipynb",
      "provenance": [],
      "collapsed_sections": []
    },
    "kernelspec": {
      "name": "python3",
      "display_name": "Python 3"
    },
    "language_info": {
      "name": "python"
    },
    "accelerator": "GPU"
  },
  "cells": [
    {
      "cell_type": "code",
      "metadata": {
        "colab": {
          "base_uri": "https://localhost:8080/",
          "height": 0
        },
        "id": "cjT53blqLYw3",
        "outputId": "9ae671a3-46dc-4549-90af-3eaa7c48bc33"
      },
      "source": [
        "from google.colab import drive\n",
        "drive.mount('/content/drive')"
      ],
      "execution_count": 1,
      "outputs": [
        {
          "output_type": "stream",
          "name": "stdout",
          "text": [
            "Mounted at /content/drive\n"
          ]
        }
      ]
    },
    {
      "cell_type": "code",
      "metadata": {
        "id": "HT9i40sMM5lt"
      },
      "source": [
        "import os\n",
        "import pandas as pd\n",
        "import torch\n",
        "from torch.utils.data import Dataset, DataLoader  \n",
        "from skimage import io"
      ],
      "execution_count": 2,
      "outputs": []
    },
    {
      "cell_type": "code",
      "metadata": {
        "id": "EvahDt2be8xz"
      },
      "source": [
        "import torch\n",
        "import torch.nn as nn\n",
        "import torchvision.transforms as transforms"
      ],
      "execution_count": 3,
      "outputs": []
    },
    {
      "cell_type": "markdown",
      "metadata": {
        "id": "CdvCkig7I4fY"
      },
      "source": [
        "# Experiment 3"
      ]
    },
    {
      "cell_type": "code",
      "metadata": {
        "colab": {
          "base_uri": "https://localhost:8080/",
          "height": 0
        },
        "id": "my-Lx-VJI5zT",
        "outputId": "bfb162c8-27b1-44b5-bf85-aa8f6a05b291"
      },
      "source": [
        "!unzip \"/content/drive/MyDrive/dataset/Dataset_2.zip\""
      ],
      "execution_count": 4,
      "outputs": [
        {
          "output_type": "stream",
          "name": "stdout",
          "text": [
            "Archive:  /content/drive/MyDrive/dataset/Dataset_2.zip\n",
            "   creating: Dataset_2/\n",
            "  inflating: Dataset_2/t10k-images-idx3-ubyte  \n",
            "  inflating: Dataset_2/t10k-labels-idx1-ubyte  \n",
            "  inflating: Dataset_2/train-images-idx3-ubyte  \n",
            "  inflating: Dataset_2/train-labels-idx1-ubyte  \n",
            "  inflating: Dataset_2/verification_test.csv  \n",
            "  inflating: Dataset_2/verification_train.csv  \n"
          ]
        }
      ]
    },
    {
      "cell_type": "code",
      "metadata": {
        "id": "WpoWmdLjJLML"
      },
      "source": [
        "train_csv2  = pd.read_csv('/content/Dataset_2/verification_train.csv')\n",
        "test_csv2 = pd.read_csv('/content/Dataset_2/verification_test.csv')"
      ],
      "execution_count": 5,
      "outputs": []
    },
    {
      "cell_type": "code",
      "metadata": {
        "id": "rtmU_CAKJlVN"
      },
      "source": [
        "import numpy as np\n",
        "class second_Dataset(Dataset):\n",
        "    \"\"\"User defined class to build a datset using Pytorch class Dataset.\"\"\"\n",
        "    \n",
        "    def __init__(self, data, transform = None):\n",
        "        \"\"\"Method to initilaize variables.\"\"\" \n",
        "        self.data_MNIST = list(data.values)\n",
        "        self.transform = transform\n",
        "        \n",
        "        label = []\n",
        "        image = []\n",
        "        \n",
        "        for i in self.data_MNIST:\n",
        "             # first column is of labels.\n",
        "            label.append(i[0])\n",
        "            image.append(i[1:])\n",
        "        self.labels = np.asarray(label)\n",
        "        self.images = np.asarray(image).reshape(-1, 28, 28, 1).astype('float32')\n",
        "\n",
        "    def __getitem__(self, index):\n",
        "        label = self.labels[index]\n",
        "        image = self.images[index]\n",
        "        \n",
        "        if self.transform is not None:\n",
        "            image = self.transform(image)\n",
        "\n",
        "        return image, label\n",
        "\n",
        "    def __len__(self):\n",
        "        return len(self.images)"
      ],
      "execution_count": 6,
      "outputs": []
    },
    {
      "cell_type": "code",
      "metadata": {
        "id": "a1jEAEZCKQIU"
      },
      "source": [
        "train_set = second_Dataset(train_csv2, transform=transforms.Compose([transforms.ToTensor()]))\n",
        "test_set = second_Dataset(test_csv2, transform=transforms.Compose([transforms.ToTensor()]))\n",
        "\n",
        "train_loader = DataLoader(train_set, batch_size=100)\n",
        "test_loader = DataLoader(train_set, batch_size=100)"
      ],
      "execution_count": 7,
      "outputs": []
    },
    {
      "cell_type": "markdown",
      "metadata": {
        "id": "OywTz1uCLg_V"
      },
      "source": [
        "For experiment 1"
      ]
    },
    {
      "cell_type": "code",
      "metadata": {
        "colab": {
          "base_uri": "https://localhost:8080/",
          "height": 0
        },
        "id": "Za7FBndHL3HN",
        "outputId": "abee84f4-1f5a-4ab9-bc39-a23686dc6a31"
      },
      "source": [
        "print(len(train_set))\n",
        "print(len(test_set))"
      ],
      "execution_count": 8,
      "outputs": [
        {
          "output_type": "stream",
          "name": "stdout",
          "text": [
            "60000\n",
            "10000\n"
          ]
        }
      ]
    },
    {
      "cell_type": "code",
      "metadata": {
        "colab": {
          "base_uri": "https://localhost:8080/",
          "height": 0
        },
        "id": "tdJtSw82MSSB",
        "outputId": "f16baacd-0bc6-4830-ca33-44c5789fe15d"
      },
      "source": [
        "# Hyperparameters\n",
        "\n",
        "batch_size = 20\n",
        "num_iters = 20000\n",
        "input_dim = 28*28 # num_features = 784\n",
        "num_hidden = 200 # num of hidden nodes\n",
        "output_dim = 10\n",
        "\n",
        "learning_rate = 1e-4  # More power so we can learn faster! previously it was 0.001\n",
        "\n",
        "# Device\n",
        "device = torch.device(\"cuda:0\" if torch.cuda.is_available() else \"cpu\")\n",
        "\n",
        "\n",
        "\n",
        "\n",
        "'''\n",
        "MAKING DATASET ITERABLE\n",
        "'''\n",
        "num_epochs = num_iters / (len(train_set) / batch_size)\n",
        "num_epochs = int(num_epochs)\n",
        "\n",
        "train_loader = torch.utils.data.DataLoader(dataset=train_set, \n",
        "                                           batch_size=batch_size, \n",
        "                                           shuffle=True)   # It's better to shuffle the whole training dataset! \n",
        "\n",
        "test_loader = torch.utils.data.DataLoader(dataset=test_set, \n",
        "                                          batch_size=batch_size, \n",
        "                                          shuffle=False)\n",
        "\n",
        "\n",
        "\n",
        "\n",
        "\n",
        "class DeepNeuralNetworkModel(nn.Module):\n",
        "    def __init__(self, input_size, num_classes, num_hidden):\n",
        "        super().__init__()\n",
        "        ### 1st hidden layer: 784 --> 100\n",
        "        self.linear_1 = nn.Linear(input_size, num_hidden)\n",
        "        ### Non-linearity in 1st hidden layer\n",
        "        self.relu_1 = nn.ReLU()\n",
        "\n",
        "        ### 2nd hidden layer: 100 --> 100\n",
        "        self.linear_2 = nn.Linear(num_hidden, num_hidden)\n",
        "        ### Non-linearity in 2nd hidden layer\n",
        "        self.relu_2 = nn.ReLU()\n",
        "\n",
        "        ### 3rd hidden layer: 100 --> 100\n",
        "        self.linear_3 = nn.Linear(num_hidden, num_hidden)\n",
        "        ### Non-linearity in 2nd hidden layer\n",
        "        self.relu_3 = nn.ReLU()\n",
        "\n",
        "        ### 4th hidden layer: 100 --> 100\n",
        "        self.linear_4 = nn.Linear(num_hidden, num_hidden)\n",
        "        ### Non-linearity in 2nd hidden layer\n",
        "        self.relu_4 = nn.ReLU()\n",
        "\n",
        "        ### 5th hidden layer: 100 --> 100\n",
        "        self.linear_5 = nn.Linear(num_hidden, num_hidden)\n",
        "        ### Non-linearity in 2nd hidden layer\n",
        "        self.relu_5 = nn.ReLU()\n",
        "\n",
        "        ### 6th hidden layer: 100 --> 100\n",
        "        self.linear_6 = nn.Linear(num_hidden, num_hidden)\n",
        "        ### Non-linearity in 2nd hidden layer\n",
        "        self.relu_6 = nn.ReLU()\n",
        "\n",
        "        ### Output layer: 100 --> 10\n",
        "        self.linear_out = nn.Linear(num_hidden, num_classes)\n",
        "\n",
        "    def forward(self, x):\n",
        "        ### 1st hidden layer\n",
        "        out  = self.linear_1(x)\n",
        "        ### Non-linearity in 1st hidden layer\n",
        "        out = self.relu_1(out)\n",
        "        \n",
        "        ### 2nd hidden layer\n",
        "        out  = self.linear_2(out)\n",
        "        ### Non-linearity in 2nd hidden layer\n",
        "        out = self.relu_2(out)\n",
        "        \n",
        "        ### 3rd hidden layer\n",
        "        out  = self.linear_3(out)\n",
        "        ### Non-linearity in 1st hidden layer\n",
        "        out = self.relu_3(out)\n",
        "        \n",
        "        ### 4th hidden layer\n",
        "        out  = self.linear_4(out)\n",
        "        ### Non-linearity in 2nd hidden layer\n",
        "        out = self.relu_4(out)\n",
        "\n",
        "        ### 5th hidden layer\n",
        "        out  = self.linear_5(out)\n",
        "        ### Non-linearity in 1st hidden layer\n",
        "        out = self.relu_5(out)\n",
        "        \n",
        "        ### 6th hidden layer\n",
        "        out  = self.linear_6(out)\n",
        "        ### Non-linearity in 2nd hidden layer\n",
        "        out = self.relu_6(out)\n",
        "     \n",
        "        # Linear layer (output)\n",
        "        probas  = self.linear_out(out)\n",
        "        return probas\n",
        "\n",
        "\n",
        "# INSTANTIATE MODEL CLASS\n",
        "\n",
        "model = DeepNeuralNetworkModel(input_size = input_dim,\n",
        "                               num_classes = output_dim,\n",
        "                               num_hidden = num_hidden)\n",
        "# To enable GPU\n",
        "model.to(device)\n",
        "\n",
        "# INSTANTIATE LOSS & OPTIMIZER CLASS\n",
        "\n",
        "criterion = nn.CrossEntropyLoss()\n",
        "optimizer = torch.optim.SGD(model.parameters(), lr=learning_rate)\n",
        "iteration_loss= []\n",
        "iter = 0\n",
        "for epoch in range(num_epochs):\n",
        "    for i, (images, labels) in enumerate(train_loader):\n",
        "\n",
        "        images = images.view(-1, 28*28).to(device)\n",
        "        labels = labels.to(device)\n",
        "\n",
        "        # Clear gradients w.r.t. parameters\n",
        "        optimizer.zero_grad()\n",
        "\n",
        "        # Forward pass to get output/logits\n",
        "        outputs = model(images) \n",
        "\n",
        "        # Calculate Loss: softmax --> cross entropy loss\n",
        "        loss = criterion(outputs, labels)\n",
        "\n",
        "        # Getting gradients w.r.t. parameters\n",
        "        loss.backward()\n",
        "\n",
        "        # Updating parameters\n",
        "        optimizer.step()\n",
        "\n",
        "        iter += 1\n",
        "\n",
        "        if iter % 500 == 0:\n",
        "            # Calculate Accuracy         \n",
        "            correct = 0\n",
        "            total = 0\n",
        "            # Iterate through test dataset\n",
        "            for images, labels in test_loader:\n",
        "               \n",
        "                images = images.view(-1, 28*28).to(device)\n",
        "\n",
        "                # Forward pass only to get logits/output\n",
        "                outputs = model(images)\n",
        "\n",
        "                # Get predictions from the maximum value\n",
        "                _, predicted = torch.max(outputs, 1)\n",
        "\n",
        "                # Total number of labels\n",
        "                total += labels.size(0)\n",
        "\n",
        "\n",
        "                # Total correct predictions\n",
        "                if torch.cuda.is_available():\n",
        "                    correct += (predicted.cpu() == labels.cpu()).sum() \n",
        "                else:\n",
        "                    correct += (predicted == labels).sum()\n",
        "\n",
        "            accuracy = 100 * correct.item() / total\n",
        "\n",
        "            # Print Loss\n",
        "            iteration_loss.append(loss.item())\n",
        "            print('Iteration: {}. Loss: {}. Accuracy: {}'.format(iter, loss.item(), accuracy))"
      ],
      "execution_count": 10,
      "outputs": [
        {
          "output_type": "stream",
          "name": "stdout",
          "text": [
            "Iteration: 500. Loss: 1.9339832067489624. Accuracy: 52.04\n",
            "Iteration: 1000. Loss: 1.7489538192749023. Accuracy: 61.98\n",
            "Iteration: 1500. Loss: 1.2468540668487549. Accuracy: 63.81\n",
            "Iteration: 2000. Loss: 0.9672842025756836. Accuracy: 66.45\n",
            "Iteration: 2500. Loss: 0.9880426526069641. Accuracy: 68.0\n",
            "Iteration: 3000. Loss: 0.7906092405319214. Accuracy: 71.12\n",
            "Iteration: 3500. Loss: 0.7596513628959656. Accuracy: 72.73\n",
            "Iteration: 4000. Loss: 0.5931726098060608. Accuracy: 74.11\n",
            "Iteration: 4500. Loss: 0.7387098073959351. Accuracy: 75.73\n",
            "Iteration: 5000. Loss: 0.4783708155155182. Accuracy: 76.66\n",
            "Iteration: 5500. Loss: 0.5172479748725891. Accuracy: 77.24\n",
            "Iteration: 6000. Loss: 0.519318699836731. Accuracy: 78.11\n",
            "Iteration: 6500. Loss: 0.4010235369205475. Accuracy: 78.67\n",
            "Iteration: 7000. Loss: 0.4596472382545471. Accuracy: 78.95\n",
            "Iteration: 7500. Loss: 0.7017530202865601. Accuracy: 79.13\n",
            "Iteration: 8000. Loss: 0.3737754821777344. Accuracy: 80.06\n",
            "Iteration: 8500. Loss: 0.6467982530593872. Accuracy: 80.75\n",
            "Iteration: 9000. Loss: 0.7300059795379639. Accuracy: 80.38\n",
            "Iteration: 9500. Loss: 0.24048280715942383. Accuracy: 81.08\n",
            "Iteration: 10000. Loss: 0.7616409659385681. Accuracy: 80.98\n",
            "Iteration: 10500. Loss: 0.4813566207885742. Accuracy: 80.86\n",
            "Iteration: 11000. Loss: 0.3465925455093384. Accuracy: 81.67\n",
            "Iteration: 11500. Loss: 0.5817760825157166. Accuracy: 81.97\n",
            "Iteration: 12000. Loss: 0.23473882675170898. Accuracy: 81.25\n",
            "Iteration: 12500. Loss: 0.3263052701950073. Accuracy: 82.3\n",
            "Iteration: 13000. Loss: 0.6548877358436584. Accuracy: 82.43\n",
            "Iteration: 13500. Loss: 0.3617123067378998. Accuracy: 82.79\n",
            "Iteration: 14000. Loss: 0.5806191563606262. Accuracy: 82.62\n",
            "Iteration: 14500. Loss: 0.4600546956062317. Accuracy: 82.64\n",
            "Iteration: 15000. Loss: 0.5296441912651062. Accuracy: 83.21\n",
            "Iteration: 15500. Loss: 0.6402001976966858. Accuracy: 83.17\n",
            "Iteration: 16000. Loss: 0.5795303583145142. Accuracy: 82.93\n",
            "Iteration: 16500. Loss: 0.7650244832038879. Accuracy: 83.13\n",
            "Iteration: 17000. Loss: 0.4020453989505768. Accuracy: 82.8\n",
            "Iteration: 17500. Loss: 0.6105581521987915. Accuracy: 83.82\n",
            "Iteration: 18000. Loss: 0.7028201818466187. Accuracy: 83.58\n"
          ]
        }
      ]
    },
    {
      "cell_type": "code",
      "metadata": {
        "colab": {
          "base_uri": "https://localhost:8080/",
          "height": 320
        },
        "id": "Egeoid1fNCBc",
        "outputId": "fa4b4d81-e91a-4ff9-9171-992d8116c375"
      },
      "source": [
        "import matplotlib\n",
        "import matplotlib.pyplot as plt\n",
        "\n",
        "print (iteration_loss)\n",
        "plt.plot(iteration_loss)\n",
        "plt.ylabel('Loss')\n",
        "plt.xlabel('Iteration (in every 500)')\n",
        "plt.show()"
      ],
      "execution_count": 11,
      "outputs": [
        {
          "output_type": "stream",
          "name": "stdout",
          "text": [
            "[1.9339832067489624, 1.7489538192749023, 1.2468540668487549, 0.9672842025756836, 0.9880426526069641, 0.7906092405319214, 0.7596513628959656, 0.5931726098060608, 0.7387098073959351, 0.4783708155155182, 0.5172479748725891, 0.519318699836731, 0.4010235369205475, 0.4596472382545471, 0.7017530202865601, 0.3737754821777344, 0.6467982530593872, 0.7300059795379639, 0.24048280715942383, 0.7616409659385681, 0.4813566207885742, 0.3465925455093384, 0.5817760825157166, 0.23473882675170898, 0.3263052701950073, 0.6548877358436584, 0.3617123067378998, 0.5806191563606262, 0.4600546956062317, 0.5296441912651062, 0.6402001976966858, 0.5795303583145142, 0.7650244832038879, 0.4020453989505768, 0.6105581521987915, 0.7028201818466187]\n"
          ]
        },
        {
          "output_type": "display_data",
          "data": {
            "image/png": "[encoded data removed]",
            "text/plain": [
              "<Figure size 432x288 with 1 Axes>"
            ]
          },
          "metadata": {
            "needs_background": "light"
          }
        }
      ]
    },
    {
      "cell_type": "markdown",
      "metadata": {
        "id": "EYDq9VlyQas5"
      },
      "source": [
        "For experiment 2"
      ]
    },
    {
      "cell_type": "code",
      "metadata": {
        "colab": {
          "base_uri": "https://localhost:8080/",
          "height": 0
        },
        "id": "MjVggKBIQsiB",
        "outputId": "b5caed40-cb9c-4692-b407-8747daa2522a"
      },
      "source": [
        "# Hyperparameters\n",
        "\n",
        "#Batch Parameters\n",
        "batch_size = 250\n",
        "num_iters = 20000\n",
        "input_dim = 28*28\n",
        "num_hidden = 400\n",
        "output_dim = 10\n",
        "\n",
        "learning_rate = 1e-4\n",
        "\n",
        "num_epochs = num_iters / (len(train_set) / batch_size)\n",
        "num_epochs = int(num_epochs)\n",
        "print(num_epochs)\n",
        "\n",
        "device = torch.device(\"cuda:0\" if torch.cuda.is_available() else \"cpu\")\n",
        "\n",
        "\n",
        "\n",
        "'''\n",
        "MAKING DATASET ITERABLE\n",
        "'''\n",
        "\n",
        "train_loader = torch.utils.data.DataLoader(dataset=train_set, \n",
        "                                           batch_size=batch_size, \n",
        "                                           shuffle=True)   # It's better to shuffle the whole training dataset! \n",
        "\n",
        "test_loader = torch.utils.data.DataLoader(dataset=test_set, \n",
        "                                          batch_size=batch_size, \n",
        "                                          shuffle=False)  \n",
        "\n",
        "class DeepNeuralNetworkModel(nn.Module):\n",
        "    def __init__(self, input_size, num_classes, num_hidden):\n",
        "        super().__init__()\n",
        "\n",
        "       #First Hidden Layer\n",
        "        self.linear_1 = nn.Linear(input_size, num_hidden)\n",
        "        self.relu_1 = nn.Tanh()\n",
        "\n",
        "        #2nd Hidden Layer\n",
        "        self.linear_2 = nn.Linear(num_hidden, num_hidden)\n",
        "        self.relu_2 = nn.Tanh()\n",
        "\n",
        "         #3rd Hidden Layer\n",
        "        self.linear_3 = nn.Linear(num_hidden, num_hidden)\n",
        "        self.relu_3 = nn.Softmax(dim=0)\n",
        "\n",
        "         #4th Hidden Layer\n",
        "        self.linear_4 = nn.Linear(num_hidden, num_hidden)\n",
        "        self.relu_4 = nn.Softmax(dim=0)\n",
        "\n",
        "         #5th Hidden Layer\n",
        "        self.linear_5= nn.Linear(num_hidden, num_hidden)\n",
        "        self.relu_5= nn.Tanh()\n",
        "        \n",
        "        #6th Hidden Layer\n",
        "        self.linear_6 = nn.Linear(num_hidden, num_hidden)\n",
        "        self.relu_6 = nn.Tanh()\n",
        "\n",
        "        #7th Hidden Layer\n",
        "        self.linear_7 = nn.Linear(num_hidden, num_hidden)\n",
        "        self.relu_7 = nn.Tanh()\n",
        "\n",
        " \n",
        "        self.linear_out = nn.Linear(num_hidden, num_classes)\n",
        " \n",
        "    def forward(self, x):\n",
        "        out  = self.linear_1(x)\n",
        "        out = self.relu_1(out)\n",
        "        \n",
        "        out  = self.linear_2(out)\n",
        "        out = self.relu_2(out)\n",
        " \n",
        "        out  = self.linear_3(out)\n",
        "        out = self.relu_3(out)\n",
        " \n",
        "        out  = self.linear_4(out)\n",
        "        out = self.relu_4(out)\n",
        " \n",
        "        out  = self.linear_5(out)\n",
        "        out = self.relu_5(out)\n",
        " \n",
        "        out  = self.linear_6(out)\n",
        "        out = self.relu_6(out)\n",
        "\n",
        "        out  = self.linear_7(out)\n",
        "        out = self.relu_7(out)\n",
        "\n",
        "        \n",
        "        \n",
        "        probas  = self.linear_out(out)\n",
        "        return probas\n",
        "\n",
        "\n",
        "# INSTANTIATE MODEL CLASS\n",
        "\n",
        "model = DeepNeuralNetworkModel(input_size = input_dim,\n",
        "                               num_classes = output_dim,\n",
        "                               num_hidden = num_hidden)\n",
        "# To enable GPU\n",
        "model.to(device)\n",
        "\n",
        "# INSTANTIATE LOSS & OPTIMIZER CLASS\n",
        "\n",
        "criterion = nn.CrossEntropyLoss()\n",
        "optimizer = torch.optim.SGD(model.parameters(), lr=learning_rate)\n",
        "\n",
        "iteration_loss = []\n",
        "iter = 0\n",
        "for epoch in range(num_epochs):\n",
        "    for i, (images, labels) in enumerate(train_loader):\n",
        "\n",
        "        images = images.view(-1, 28*28).to(device)\n",
        "        labels = labels.to(device)\n",
        "\n",
        "        # Clear gradients w.r.t. parameters\n",
        "        optimizer.zero_grad()\n",
        "\n",
        "        # Forward pass to get output/logits\n",
        "        outputs = model(images) \n",
        "\n",
        "        # Calculate Loss: softmax --> cross entropy loss\n",
        "        loss = criterion(outputs, labels)\n",
        "\n",
        "        # Getting gradients w.r.t. parameters\n",
        "        loss.backward()\n",
        "\n",
        "        # Updating parameters\n",
        "        optimizer.step()\n",
        "\n",
        "        iter += 1\n",
        "\n",
        "        if iter % 500 == 0:\n",
        "            # Calculate Accuracy         \n",
        "            correct = 0\n",
        "            total = 0\n",
        "            # Iterate through test dataset\n",
        "            for images, labels in test_loader:\n",
        "               \n",
        "                images = images.view(-1, 28*28).to(device)\n",
        "\n",
        "                # Forward pass only to get logits/output\n",
        "                outputs = model(images)\n",
        "\n",
        "                # Get predictions from the maximum value\n",
        "                _, predicted = torch.max(outputs, 1)\n",
        "\n",
        "                # Total number of labels\n",
        "                total += labels.size(0)\n",
        "\n",
        "\n",
        "                # Total correct predictions\n",
        "                if torch.cuda.is_available():\n",
        "                    correct += (predicted.cpu() == labels.cpu()).sum() \n",
        "                else:\n",
        "                    correct += (predicted == labels).sum()\n",
        "\n",
        "            accuracy = 100 * correct.item() / total\n",
        "\n",
        "            # Print Loss\n",
        "            iteration_loss.append(loss.item())\n",
        "            print('Iteration: {}. Loss: {}. Accuracy: {}'.format(iter, loss.item(), accuracy))"
      ],
      "execution_count": 13,
      "outputs": [
        {
          "output_type": "stream",
          "name": "stdout",
          "text": [
            "83\n",
            "Iteration: 500. Loss: 2.300344228744507. Accuracy: 10.0\n",
            "Iteration: 1000. Loss: 2.3038783073425293. Accuracy: 10.0\n",
            "Iteration: 1500. Loss: 2.302445650100708. Accuracy: 10.0\n",
            "Iteration: 2000. Loss: 2.2996532917022705. Accuracy: 10.0\n",
            "Iteration: 2500. Loss: 2.3011879920959473. Accuracy: 10.0\n",
            "Iteration: 3000. Loss: 2.3032448291778564. Accuracy: 10.0\n",
            "Iteration: 3500. Loss: 2.3011960983276367. Accuracy: 10.0\n",
            "Iteration: 4000. Loss: 2.3012115955352783. Accuracy: 10.0\n",
            "Iteration: 4500. Loss: 2.303861379623413. Accuracy: 10.0\n",
            "Iteration: 5000. Loss: 2.300896644592285. Accuracy: 10.0\n",
            "Iteration: 5500. Loss: 2.3021233081817627. Accuracy: 10.0\n",
            "Iteration: 6000. Loss: 2.3034751415252686. Accuracy: 10.0\n",
            "Iteration: 6500. Loss: 2.3033652305603027. Accuracy: 10.0\n",
            "Iteration: 7000. Loss: 2.305067777633667. Accuracy: 10.0\n",
            "Iteration: 7500. Loss: 2.3014633655548096. Accuracy: 10.0\n",
            "Iteration: 8000. Loss: 2.302367687225342. Accuracy: 10.0\n",
            "Iteration: 8500. Loss: 2.3033783435821533. Accuracy: 10.0\n",
            "Iteration: 9000. Loss: 2.30427885055542. Accuracy: 10.0\n",
            "Iteration: 9500. Loss: 2.3015599250793457. Accuracy: 10.0\n",
            "Iteration: 10000. Loss: 2.303417444229126. Accuracy: 10.0\n",
            "Iteration: 10500. Loss: 2.302125930786133. Accuracy: 10.0\n",
            "Iteration: 11000. Loss: 2.30362868309021. Accuracy: 10.0\n",
            "Iteration: 11500. Loss: 2.3022890090942383. Accuracy: 10.0\n",
            "Iteration: 12000. Loss: 2.302760362625122. Accuracy: 10.0\n",
            "Iteration: 12500. Loss: 2.3013246059417725. Accuracy: 10.0\n",
            "Iteration: 13000. Loss: 2.302885055541992. Accuracy: 10.0\n",
            "Iteration: 13500. Loss: 2.305804491043091. Accuracy: 10.0\n",
            "Iteration: 14000. Loss: 2.3035435676574707. Accuracy: 10.0\n",
            "Iteration: 14500. Loss: 2.3029375076293945. Accuracy: 10.0\n",
            "Iteration: 15000. Loss: 2.3035807609558105. Accuracy: 10.0\n",
            "Iteration: 15500. Loss: 2.3005146980285645. Accuracy: 10.0\n",
            "Iteration: 16000. Loss: 2.3042712211608887. Accuracy: 10.0\n",
            "Iteration: 16500. Loss: 2.3044486045837402. Accuracy: 10.0\n",
            "Iteration: 17000. Loss: 2.3029916286468506. Accuracy: 10.0\n",
            "Iteration: 17500. Loss: 2.301068067550659. Accuracy: 10.0\n",
            "Iteration: 18000. Loss: 2.30269193649292. Accuracy: 10.0\n",
            "Iteration: 18500. Loss: 2.300403594970703. Accuracy: 10.0\n",
            "Iteration: 19000. Loss: 2.302835702896118. Accuracy: 10.0\n",
            "Iteration: 19500. Loss: 2.3020684719085693. Accuracy: 10.0\n"
          ]
        }
      ]
    },
    {
      "cell_type": "code",
      "metadata": {
        "id": "sRwHUTSiRARF",
        "colab": {
          "base_uri": "https://localhost:8080/",
          "height": 319
        },
        "outputId": "c8bf9d2d-45b1-4901-b95c-686d54e53553"
      },
      "source": [
        "import matplotlib\n",
        "import matplotlib.pyplot as plt\n",
        "\n",
        "print (iteration_loss)\n",
        "plt.plot(iteration_loss)\n",
        "plt.ylabel('Loss')\n",
        "plt.xlabel('Iteration (in every 500)')\n",
        "plt.show()"
      ],
      "execution_count": 14,
      "outputs": [
        {
          "output_type": "stream",
          "name": "stdout",
          "text": [
            "[2.300344228744507, 2.3038783073425293, 2.302445650100708, 2.2996532917022705, 2.3011879920959473, 2.3032448291778564, 2.3011960983276367, 2.3012115955352783, 2.303861379623413, 2.300896644592285, 2.3021233081817627, 2.3034751415252686, 2.3033652305603027, 2.305067777633667, 2.3014633655548096, 2.302367687225342, 2.3033783435821533, 2.30427885055542, 2.3015599250793457, 2.303417444229126, 2.302125930786133, 2.30362868309021, 2.3022890090942383, 2.302760362625122, 2.3013246059417725, 2.302885055541992, 2.305804491043091, 2.3035435676574707, 2.3029375076293945, 2.3035807609558105, 2.3005146980285645, 2.3042712211608887, 2.3044486045837402, 2.3029916286468506, 2.301068067550659, 2.30269193649292, 2.300403594970703, 2.302835702896118, 2.3020684719085693]\n"
          ]
        },
        {
          "output_type": "display_data",
          "data": {
            "image/png": "[encoded data removed]",
            "text/plain": [
              "<Figure size 432x288 with 1 Axes>"
            ]
          },
          "metadata": {
            "needs_background": "light"
          }
        }
      ]
    }
  ]
}